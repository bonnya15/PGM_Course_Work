{
 "cells": [
  {
   "cell_type": "code",
   "execution_count": 2,
   "id": "47bc1ec0",
   "metadata": {},
   "outputs": [],
   "source": [
    "import math \n",
    "import numpy as np\n",
    "import scipy.stats as stats\n",
    "import matplotlib.pyplot as plt\n",
    "from scipy.optimize import brentq\n",
    "from scipy.stats._discrete_distns import binom"
   ]
  },
  {
   "cell_type": "markdown",
   "id": "550f9b2a",
   "metadata": {},
   "source": [
    "Given a binary random variable X $\\in$ {0,1} first we need to generate random samples using Monte Carlo Simulation. Details description is in the sheet. "
   ]
  },
  {
   "cell_type": "code",
   "execution_count": 3,
   "id": "4df1bffc",
   "metadata": {},
   "outputs": [],
   "source": [
    "N = [50,100,150,200] # Array of number of samples need to be generated \n",
    "theta = 0.4          # theta = P[X=1] = 0.4 (given)\n",
    "sample_dict = {}\n",
    "\n",
    "def generate_samples(n, theta):\n",
    "    sample = []\n",
    "    region = [0,1]\n",
    "    for i in range(n):\n",
    "        x = np.random.uniform(low=0.0, high=1.0)\n",
    "        if 0<= x <theta :\n",
    "            sample.append(region[1])\n",
    "        else:\n",
    "            sample.append(region[0])\n",
    "    return(sample)"
   ]
  },
  {
   "cell_type": "markdown",
   "id": "f083cfe4",
   "metadata": {},
   "source": [
    "# Generating the samples N = [50,100,150,200]"
   ]
  },
  {
   "cell_type": "code",
   "execution_count": 8,
   "id": "45b9f136",
   "metadata": {},
   "outputs": [
    {
     "name": "stdout",
     "output_type": "stream",
     "text": [
      "{50: [0, 0, 0, 0, 1, 0, 0, 1, 0, 1, 0, 0, 1, 0, 0, 1, 0, 0, 1, 0, 0, 1, 0, 1, 0, 1, 1, 1, 0, 0, 0, 0, 0, 1, 1, 1, 0, 0, 1, 0, 0, 1, 1, 1, 0, 0, 0, 1, 1, 1], 100: [0, 0, 1, 1, 1, 0, 1, 1, 1, 0, 0, 0, 1, 1, 1, 0, 0, 1, 0, 1, 0, 0, 0, 1, 0, 0, 0, 1, 0, 0, 1, 0, 0, 0, 0, 0, 0, 0, 0, 1, 1, 0, 1, 0, 0, 0, 1, 0, 1, 0, 0, 1, 1, 0, 1, 0, 0, 1, 1, 1, 0, 0, 0, 0, 1, 0, 1, 0, 1, 1, 0, 0, 1, 0, 0, 1, 0, 1, 1, 1, 0, 1, 1, 0, 0, 0, 1, 0, 0, 1, 1, 0, 0, 0, 0, 1, 1, 1, 0, 1], 150: [1, 1, 0, 0, 1, 1, 0, 0, 0, 0, 1, 1, 0, 1, 0, 0, 0, 1, 1, 1, 0, 1, 0, 0, 1, 0, 1, 1, 1, 0, 0, 0, 0, 1, 0, 0, 0, 0, 0, 1, 1, 1, 1, 0, 1, 0, 1, 1, 0, 1, 1, 1, 0, 0, 0, 1, 0, 0, 1, 0, 0, 0, 0, 0, 1, 0, 0, 0, 0, 0, 1, 0, 1, 1, 0, 0, 1, 0, 1, 1, 1, 0, 0, 0, 1, 0, 0, 1, 0, 0, 1, 0, 0, 0, 1, 0, 1, 1, 1, 0, 0, 0, 0, 1, 1, 0, 1, 1, 1, 0, 0, 0, 1, 0, 0, 0, 0, 0, 0, 1, 0, 1, 0, 1, 1, 1, 1, 1, 1, 0, 0, 1, 0, 1, 1, 0, 0, 0, 1, 1, 0, 0, 0, 1, 0, 0, 1, 1, 0, 1], 200: [0, 0, 1, 1, 0, 1, 0, 1, 0, 0, 0, 1, 0, 0, 1, 0, 0, 1, 0, 1, 0, 0, 1, 0, 1, 0, 1, 1, 1, 1, 0, 1, 0, 1, 1, 0, 1, 0, 1, 0, 0, 1, 0, 0, 0, 1, 0, 0, 1, 1, 0, 0, 1, 0, 1, 1, 0, 1, 0, 1, 0, 0, 1, 0, 0, 1, 0, 0, 1, 1, 0, 0, 1, 1, 0, 0, 0, 0, 1, 1, 1, 1, 0, 1, 1, 0, 1, 0, 0, 0, 1, 1, 1, 1, 1, 1, 0, 0, 0, 0, 0, 0, 1, 0, 0, 0, 0, 0, 0, 1, 0, 0, 0, 0, 0, 0, 0, 1, 1, 0, 1, 0, 1, 0, 0, 0, 0, 1, 0, 1, 0, 0, 1, 1, 0, 1, 0, 1, 0, 0, 0, 1, 0, 0, 0, 1, 0, 0, 0, 0, 0, 1, 0, 0, 0, 1, 0, 0, 1, 1, 0, 1, 1, 1, 1, 1, 0, 0, 0, 0, 1, 0, 0, 0, 0, 1, 0, 1, 0, 0, 1, 0, 0, 0, 1, 0, 1, 0, 0, 0, 0, 0, 1, 0, 0, 0, 1, 0, 0, 0]}\n"
     ]
    }
   ],
   "source": [
    "for i in N:\n",
    "    sample_dict[i] = generate_samples(i, theta)\n",
    "    \n",
    "print(sample_dict)"
   ]
  },
  {
   "cell_type": "markdown",
   "id": "79ef19fb",
   "metadata": {},
   "source": [
    "# Finding theta_mle for each sample size    "
   ]
  },
  {
   "cell_type": "code",
   "execution_count": 9,
   "id": "e4d5bd8d",
   "metadata": {},
   "outputs": [
    {
     "name": "stdout",
     "output_type": "stream",
     "text": [
      "{50: 0.42, 100: 0.43, 150: 0.44, 200: 0.39}\n"
     ]
    }
   ],
   "source": [
    "mle_dict = {}\n",
    "for i in N:\n",
    "    mle_dict[i] = sum(sample_dict[i])/i\n",
    "print(mle_dict)"
   ]
  },
  {
   "cell_type": "markdown",
   "id": "e0207680",
   "metadata": {},
   "source": [
    "# Bernouli Confidence Interval using approximation using 95% confidence"
   ]
  },
  {
   "cell_type": "markdown",
   "id": "b48f2fad",
   "metadata": {},
   "source": [
    "The confidience interval is $Z_{\\frac{1+\\alpha}{2}} \\times \\sqrt{(\\theta \\times (1-\\theta)/N)}$"
   ]
  },
  {
   "cell_type": "code",
   "execution_count": 10,
   "id": "d934a931",
   "metadata": {},
   "outputs": [
    {
     "data": {
      "image/png": "[encoded data removed]",
      "text/plain": [
       "<Figure size 432x288 with 1 Axes>"
      ]
     },
     "metadata": {
      "needs_background": "light"
     },
     "output_type": "display_data"
    }
   ],
   "source": [
    "Z_95 = stats.norm.ppf((1+0.95)/2, 0,1)\n",
    "conf_dict_norm = {}\n",
    "lower_conf = []\n",
    "upper_conf = []\n",
    "\n",
    "for i in N:\n",
    "    theta_hat = mle_dict[i] \n",
    "    conf_dict_norm[i] = [theta_hat - Z_95 * math.sqrt(theta_hat * (1-theta_hat)/i) , theta_hat + Z_95 * math.sqrt(theta_hat * (1-theta_hat)/i)]\n",
    "    lower_conf.append(theta_hat - Z_95 * math.sqrt(theta_hat * (1-theta_hat)/i))\n",
    "    upper_conf.append(theta_hat + Z_95 * math.sqrt(theta_hat * (1-theta_hat)/i))\n",
    "    \n",
    "colors = ['r', 'g', 'c', 'y']\n",
    "\n",
    "for i in range(len(N)):\n",
    "    plt.plot([lower_conf[i], upper_conf[i]],[N[i], N[i]], color = colors[i])\n",
    "    plt.plot(mle_dict[N[i]], N[i], marker=\"o\", markersize=5, color = colors[i])\n",
    "plt.plot([theta,theta], [0, 250], color = 'black')\n",
    "plt.plot([theta - 0.01, theta + 0.01], [250,250], color = 'black')\n",
    "plt.plot([theta - 0.01, theta + 0.01], [0,0], color = 'black')\n",
    "plt.title('Confidence Interval Plot with Number of Samples')\n",
    "plt.xlabel('P[X=1]')\n",
    "plt.ylabel('No of Samples')\n",
    "plt.show()"
   ]
  },
  {
   "cell_type": "markdown",
   "id": "e280fffd",
   "metadata": {},
   "source": [
    "# Exact confidence interval (source code from scipy github) "
   ]
  },
  {
   "cell_type": "code",
   "execution_count": 11,
   "id": "16c0698d",
   "metadata": {},
   "outputs": [],
   "source": [
    "def _findp(func):\n",
    "    try:\n",
    "        p = brentq(func, 0, 1)\n",
    "    except RuntimeError:\n",
    "        raise RuntimeError('numerical solver failed to converge when '\n",
    "                           'computing the confidence limits') from None\n",
    "    except ValueError as exc:\n",
    "        raise ValueError('brentq raised a ValueError; report this to the '\n",
    "                         'SciPy developers') from exc\n",
    "    return p\n",
    "\n",
    "\n",
    "def binom_exact_conf_int(k, n, confidence_level, alternative):\n",
    "    \"\"\"\n",
    "    Compute the estimate and confidence interval for the binomial test.\n",
    "    Returns proportion, prop_low, prop_high\n",
    "    \"\"\"\n",
    "    if alternative == 'two-sided':\n",
    "        alpha = (1 - confidence_level) / 2\n",
    "        if k == 0:\n",
    "            plow = 0.0\n",
    "        else:\n",
    "            plow = _findp(lambda p: binom.sf(k-1, n, p) - alpha)\n",
    "        if k == n:\n",
    "            phigh = 1.0\n",
    "        else:\n",
    "            phigh = _findp(lambda p: binom.cdf(k, n, p) - alpha)\n",
    "    elif alternative == 'less':\n",
    "        alpha = 1 - confidence_level\n",
    "        plow = 0.0\n",
    "        if k == n:\n",
    "            phigh = 1.0\n",
    "        else:\n",
    "            phigh = _findp(lambda p: binom.cdf(k, n, p) - alpha)\n",
    "    elif alternative == 'greater':\n",
    "        alpha = 1 - confidence_level\n",
    "        if k == 0:\n",
    "            plow = 0.0\n",
    "        else:\n",
    "            plow = _findp(lambda p: binom.sf(k-1, n, p) - alpha)\n",
    "        phigh = 1.0\n",
    "    return(plow, phigh)\n"
   ]
  },
  {
   "cell_type": "code",
   "execution_count": 12,
   "id": "a0d783bf",
   "metadata": {},
   "outputs": [
    {
     "data": {
      "image/png": "[encoded data removed]",
      "text/plain": [
       "<Figure size 432x288 with 1 Axes>"
      ]
     },
     "metadata": {
      "needs_background": "light"
     },
     "output_type": "display_data"
    }
   ],
   "source": [
    "conf_dict_exact = {}\n",
    "lower_conf_exact = []\n",
    "upper_conf_exact = []\n",
    "\n",
    "for i in N:\n",
    "    low, high = binom_exact_conf_int(sum(sample_dict[i]),i, 0.95, alternative = 'two-sided')\n",
    "    conf_dict_exact[i] = [low, high]\n",
    "    lower_conf_exact.append(low)\n",
    "    upper_conf_exact.append(high)\n",
    "    \n",
    "colors = ['r', 'g', 'c', 'y']\n",
    "\n",
    "for i in range(len(N)):\n",
    "    plt.plot([lower_conf_exact[i], upper_conf_exact[i]],[N[i], N[i]], color = colors[i])\n",
    "    plt.plot(mle_dict[N[i]], N[i], marker=\"o\", markersize=5, color = colors[i])\n",
    "plt.plot([theta,theta], [0, 250], color = 'black')\n",
    "plt.plot([theta - 0.01, theta + 0.01], [250,250], color = 'black')\n",
    "plt.plot([theta - 0.01, theta + 0.01], [0,0], color = 'black')\n",
    "plt.title('Confidence Interval Exact Plot with Number of Samples')\n",
    "plt.xlabel('P[X=1]')\n",
    "plt.ylabel('No of Samples')\n",
    "plt.show()   "
   ]
  },
  {
   "cell_type": "markdown",
   "id": "cdcba118",
   "metadata": {},
   "source": [
    "## Observations "
   ]
  },
  {
   "cell_type": "markdown",
   "id": "f82cbf61",
   "metadata": {},
   "source": [
    "After plotting the confidence intervals with respect to the sample size, for both the cases approximate and the exact one, the confidece interval is getting smaller if the sample size increases. Infact the sample mean is also close to the true mean when the sample size is large. this supports the statement for Law of Large numbers. More number of samples provides better estimates for mean. "
   ]
  },
  {
   "cell_type": "markdown",
   "id": "ea9b1d52",
   "metadata": {},
   "source": [
    "# Comparison of tightness"
   ]
  },
  {
   "cell_type": "markdown",
   "id": "949c20cc",
   "metadata": {},
   "source": [
    "For Approximate bounds"
   ]
  },
  {
   "cell_type": "code",
   "execution_count": 13,
   "id": "65f67010",
   "metadata": {},
   "outputs": [
    {
     "data": {
      "text/plain": [
       "[0.2736098490509563,\n",
       " 0.19406612862136757,\n",
       " 0.15887399228479004,\n",
       " 0.13519490030641923]"
      ]
     },
     "execution_count": 13,
     "metadata": {},
     "output_type": "execute_result"
    }
   ],
   "source": [
    "interval_normal = []\n",
    "for i in range(len(upper_conf)):\n",
    "    interval_normal.append(upper_conf[i] - lower_conf[i]) \n",
    "interval_normal"
   ]
  },
  {
   "cell_type": "markdown",
   "id": "ee523217",
   "metadata": {},
   "source": [
    "For Exact bounds"
   ]
  },
  {
   "cell_type": "code",
   "execution_count": 14,
   "id": "616611d5",
   "metadata": {},
   "outputs": [
    {
     "data": {
      "text/plain": [
       "[0.28605732381074533,\n",
       " 0.20147524504376574,\n",
       " 0.16414794980684966,\n",
       " 0.1393301704299213]"
      ]
     },
     "execution_count": 14,
     "metadata": {},
     "output_type": "execute_result"
    }
   ],
   "source": [
    "interval_exact = []\n",
    "for i in range(len(upper_conf_exact)):\n",
    "    interval_exact.append(upper_conf_exact[i] - lower_conf_exact[i]) \n",
    "interval_exact"
   ]
  },
  {
   "cell_type": "code",
   "execution_count": 19,
   "id": "e93ec144",
   "metadata": {},
   "outputs": [
    {
     "data": {
      "image/png": "[encoded data removed]",
      "text/plain": [
       "<Figure size 432x288 with 1 Axes>"
      ]
     },
     "metadata": {
      "needs_background": "light"
     },
     "output_type": "display_data"
    }
   ],
   "source": [
    "plt.scatter(N, interval_normal, label = 'Approximate')\n",
    "plt.scatter(N, interval_exact, label = 'Exact')\n",
    "plt.legend()\n",
    "plt.title('Analyzing Exact and Approximate confidence intervals')\n",
    "plt.xlabel('No of Samples')\n",
    "plt.ylabel('Confidence lenghts')\n",
    "plt.show()"
   ]
  },
  {
   "cell_type": "markdown",
   "id": "edc02173",
   "metadata": {},
   "source": [
    "From this graph we can see that Exact methods for estimating confidence intervals is less strict than the Normal approximate one. This is because, for approximate case, the distribution of the test statistic, then the interval is approximate. This often fail to let us know the exact distribution of the test statistic when the assumptions involved in the setup are not met."
   ]
  }
 ],
 "metadata": {
  "kernelspec": {
   "display_name": "Python 3",
   "language": "python",
   "name": "python3"
  },
  "language_info": {
   "codemirror_mode": {
    "name": "ipython",
    "version": 3
   },
   "file_extension": ".py",
   "mimetype": "text/x-python",
   "name": "python",
   "nbconvert_exporter": "python",
   "pygments_lexer": "ipython3",
   "version": "3.8.8"
  }
 },
 "nbformat": 4,
 "nbformat_minor": 5
}
